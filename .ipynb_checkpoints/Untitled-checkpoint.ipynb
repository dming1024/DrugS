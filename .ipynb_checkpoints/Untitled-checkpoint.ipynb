{
 "cells": [
  {
   "cell_type": "markdown",
   "id": "23879a72-24e7-453f-b9b2-6976635c8230",
   "metadata": {},
   "source": [
    "# Notebook"
   ]
  },
  {
   "cell_type": "markdown",
   "id": "abef638a-71f4-4c02-b8c7-0ecc79be6711",
   "metadata": {},
   "source": [
    "## import packages"
   ]
  },
  {
   "cell_type": "code",
   "execution_count": null,
   "id": "eb0945a0-1b01-4699-9c9c-9e4b44a611fb",
   "metadata": {},
   "outputs": [],
   "source": [
    "import tensorflow as tf\n",
    "from tensorflow.keras.models import Sequential\n",
    "from tensorflow import keras\n",
    "from tensorflow.keras.layers import Dense, Dropout\n",
    "from tensorflow.keras.optimizers import Adam\n",
    "from tensorflow.keras.losses import MeanSquaredError\n",
    "from keras_tuner.tuners import Hyperband\n",
    "from sklearn.model_selection import train_test_split\n",
    "from tensorflow.keras.regularizers import l2\n",
    "\n",
    "from scipy.stats import zscore\n",
    "import re\n",
    "import numpy as np\n",
    "import pandas as pd\n",
    "\n",
    "import matplotlib.pyplot as plt\n",
    "import seaborn as sns"
   ]
  },
  {
   "cell_type": "markdown",
   "id": "e98ad100-9ab9-44fc-a4c7-afb617119911",
   "metadata": {},
   "source": [
    "## data preprocessing"
   ]
  },
  {
   "cell_type": "code",
   "execution_count": null,
   "id": "82fd0faf-a7f6-44fa-94c6-7b348467173c",
   "metadata": {},
   "outputs": [],
   "source": [
    "def merge_data(GSVA_Score,modelID,fingerprint,IC50):\n",
    "    #step1: merge score with modelID\n",
    "    GSVA_Score_modelID=GSVA_Score.merge(\n",
    "    modelID,\n",
    "    how='inner',\n",
    "    left_on='ccl_name', \n",
    "    right_on='ModelID' \n",
    "    )\n",
    "    #step2: merge ic50 with fingerprint\n",
    "    IC50['DRUG_ID']=IC50['DRUG_ID'].astype(str)\n",
    "    fingerprint['Name']=fingerprint['Name'].astype(str)\n",
    "    ic50_fingerprint=IC50.merge(\n",
    "    fingerprint,\n",
    "    how='inner',\n",
    "    left_on='DRUG_ID',\n",
    "    right_on='Name'\n",
    "    )\n",
    "    #step3: merge expression and ic50\n",
    "    ic50_fingerprint['stripped_name']=[re.sub('\\\\-','',m) for m in ic50_fingerprint.CELL_LINE_NAME]\n",
    "    data=ic50_fingerprint.merge(\n",
    "        GSVA_Score_modelID,\n",
    "        how='inner',\n",
    "        left_on='stripped_name',\n",
    "        right_on= 'StrippedCellLineName'\n",
    "    )\n",
    "    return data"
   ]
  },
  {
   "cell_type": "markdown",
   "id": "98ad9de1-cb5f-4ae7-a94f-a9346f56cd69",
   "metadata": {},
   "source": [
    "+ GDSC1"
   ]
  },
  {
   "cell_type": "code",
   "execution_count": null,
   "id": "10256868-178a-4cef-a071-0f5ec9813c38",
   "metadata": {},
   "outputs": [],
   "source": [
    "modelID=pd.read_csv(\"./dataset/Model.csv\").iloc[:,[0,3]]\n",
    "gdsc1_fingerprint=pd.read_csv(\"./dataset/all_molecule_morgan.csv\").rename(columns={'Unnamed: 0':'Name'})\n",
    "gdsc1_IC50=pd.read_csv(\"./dataset/GDSC1_selected.csv\")\n",
    "gdsc1_data_df=merge_data(reduced_data_df,modelID,gdsc1_fingerprint,gdsc1_IC50)\n",
    "\n",
    "gdsc1_X=gdsc1_data_df.drop(['CELL_LINE_NAME','DRUG_NAME','DRUG_ID','Name','ModelID','StrippedCellLineName','LN_IC50','stripped_name','ccl_name'],axis=1)\n",
    "gdsc1_y=gdsc1_data_df['LN_IC50']"
   ]
  },
  {
   "cell_type": "markdown",
   "id": "ae71783e-c5d5-4dd4-a276-0b922a00e9ed",
   "metadata": {},
   "source": [
    "+ GDSC2"
   ]
  },
  {
   "cell_type": "code",
   "execution_count": null,
   "id": "3babbf9c-e550-4779-883e-1a306faabbe7",
   "metadata": {},
   "outputs": [],
   "source": [
    "modelID=pd.read_csv(\"./dataset/Model.csv\").iloc[:,[0,3]]\n",
    "gdsc2_fingerprint=pd.read_csv(\"./dataset/all_molecule_morgan.csv\").rename(columns={'Unnamed: 0':'Name'})\n",
    "gdsc2_IC50=pd.read_csv(\"./dataset/GDSC2_selected.csv\")\n",
    "gdsc2_data_df=merge_data(reduced_data_df,modelID,gdsc2_fingerprint,gdsc2_IC50)\n",
    "\n",
    "gdsc2_X=gdsc2_data_df.drop(['CELL_LINE_NAME','DRUG_NAME','DRUG_ID','Name','ModelID','StrippedCellLineName','LN_IC50','stripped_name','ccl_name'],axis=1)\n",
    "gdsc2_y=gdsc2_data_df['LN_IC50']"
   ]
  },
  {
   "cell_type": "code",
   "execution_count": null,
   "id": "826c4bec-13fd-49eb-9066-1f5c8f76d46b",
   "metadata": {},
   "outputs": [],
   "source": [
    "gdsc1_data_df.to_csv(\"gdsc1_data_for_model_building.csv\")\n",
    "gdsc2_data_df.to_csv(\"gdsc2_data_for_model_building.csv\")"
   ]
  },
  {
   "cell_type": "code",
   "execution_count": null,
   "id": "6c8de90b-5833-4f04-b647-c07e5e6be9d8",
   "metadata": {},
   "outputs": [],
   "source": [
    "X=pd.concat([gdsc1_X,gdsc2_X])\n",
    "y=pd.concat([gdsc1_y,gdsc2_y])\n",
    "X_train, X_val, y_train, y_val = train_test_split(X, y, test_size=0.3, random_state=1024)"
   ]
  },
  {
   "cell_type": "markdown",
   "id": "1f692561-8683-4e4f-8d43-27e61e1df815",
   "metadata": {},
   "source": [
    "## autoencoder modeling"
   ]
  },
  {
   "cell_type": "code",
   "execution_count": null,
   "id": "f9143281-21be-4011-85fe-55147224cedd",
   "metadata": {},
   "outputs": [],
   "source": [
    "expression_CCLE=pd.read_csv(\"./dataset/OmicsExpressionProteinCodingGenesTPMLogp1.csv\")\n",
    "expression_CCLE.columns=[re.sub(\"\\\\s*\\\\(.*\",\"\",m) for m in expression_CCLE.columns]\n",
    "expression_CCLE=expression_CCLE.rename(columns={'Unnamed: 0':'ccl_name'})"
   ]
  },
  {
   "cell_type": "code",
   "execution_count": null,
   "id": "fc499f5b-fee8-4718-8b21-e1f7f1144aba",
   "metadata": {},
   "outputs": [],
   "source": [
    "gene_expression=expression_CCLE.drop(['ccl_name'],axis=1).apply(zscore,axis=0)\n",
    "input_dim = gene_expression.shape[1]  \n",
    "encoding_dim = 30  \n",
    "\n",
    "\n",
    "input_layer = keras.Input(shape=(input_dim,))\n",
    "# encoded layers\n",
    "encoded = Dense(2048, activation='elu')(input_layer)\n",
    "encoded = Dense(encoding_dim, activation='relu')(encoded)\n",
    "# decode layers\n",
    "decoded = Dense(2048, activation='elu')(encoded)\n",
    "decoded = Dense(input_dim, activation='relu')(decoded)\n",
    "# modeling\n",
    "autoencoder = Model(input_layer, decoded)\n",
    "encoder = Model(input_layer, encoded)\n",
    "autoencoder.compile(optimizer='adam', loss='mse')\n",
    "early_stopping = callbacks.EarlyStopping(\n",
    "    min_delta=0.001, # minimium amount of change to count as an improvement\n",
    "    patience=10, # how many epochs to wait before stopping\n",
    "    restore_best_weights=True,\n",
    ")\n",
    "# building\n",
    "autoencoder.fit(gene_expression, gene_expression, epochs=50, \n",
    "                batch_size=256, shuffle=True, validation_split=0.2, callbacks=[early_stopping],)\n",
    "\n",
    "#reduction\n",
    "reduced_data = encoder.predict(gene_expression)\n",
    "# saved as DataFrame\n",
    "reduced_data_df = pd.DataFrame(reduced_data, columns=[f'encoded_{i+1}' for i in range(encoding_dim)])\n",
    "reduced_data_df['ccl_name']=expression_CCLE['ccl_name']\n",
    "# model save\n",
    "# autoencoder.save('autoencoder_model.h5')"
   ]
  },
  {
   "cell_type": "code",
   "execution_count": null,
   "id": "39887782-2764-4af9-a174-add4ac03bf95",
   "metadata": {},
   "outputs": [],
   "source": []
  },
  {
   "cell_type": "markdown",
   "id": "13f9efa9-e922-4a6e-8fae-cd3b8f033ef8",
   "metadata": {},
   "source": [
    "## durgs modeling"
   ]
  },
  {
   "cell_type": "code",
   "execution_count": null,
   "id": "082806b2-b843-4570-9104-56de2a2916fe",
   "metadata": {},
   "outputs": [],
   "source": [
    "model = keras.Sequential()\n",
    "model.add(keras.Input(shape=(X_train.shape[1],)))\n",
    "model.add(layers.Dense(1024, activation=\"relu\"))\n",
    "model.add(layers.Dropout(0.1))\n",
    "model.add(layers.Dense(16, activation=\"relu\"))\n",
    "model.add(layers.Dropout(0.1))\n",
    "model.add(layers.Dense(1))\n",
    "\n",
    "def custom_loss(y_true, y_pred):\n",
    "    loss = tf.reduce_mean(tf.square(y_true - y_pred))\n",
    "    return loss\n",
    "optimizer = Adam(learning_rate=1e-3, clipvalue=1.0)\n",
    "model.compile(optimizer=Adam(learning_rate=0.00011),\n",
    "              #optimizer=optimizer,\n",
    "              loss=MeanSquaredError(),\n",
    "              #loss=custom_loss,\n",
    "              metrics=['mae'])\n",
    "\n",
    "early_stopping = callbacks.EarlyStopping(\n",
    "    min_delta=0.001, # minimium amount of change to count as an improvement\n",
    "    patience=15, # how many epochs to wait before stopping\n",
    "    restore_best_weights=True,\n",
    ")\n",
    "model.summary()"
   ]
  },
  {
   "cell_type": "code",
   "execution_count": null,
   "id": "22b5bd5a-faab-423f-980a-aed6cf15bb5a",
   "metadata": {},
   "outputs": [],
   "source": [
    "history = model.fit(\n",
    "    X_train, y_train,\n",
    "    validation_data=(X_val, y_val),\n",
    "    batch_size=128,\n",
    "    epochs=200,\n",
    "    callbacks=[early_stopping], # put your callbacks in a list\n",
    "    verbose=1,  # turn off training log\n",
    ")"
   ]
  },
  {
   "cell_type": "markdown",
   "id": "9828cf2b-60a2-4254-a09b-97ea25c8db94",
   "metadata": {},
   "source": [
    "## predictions"
   ]
  },
  {
   "cell_type": "markdown",
   "id": "e0260deb-1adc-4dbc-b06c-82dbcb0f3a99",
   "metadata": {},
   "source": [
    "+ GDSC1"
   ]
  },
  {
   "cell_type": "code",
   "execution_count": null,
   "id": "75442c99-66b4-4217-b54d-99159c9a2e09",
   "metadata": {},
   "outputs": [],
   "source": [
    "tmp=model.predict(gdsc1_X)\n",
    "results=pd.DataFrame({\n",
    "    \"y_valid\":gdsc1_y,\n",
    "    \"predictions\":[m[0] for m in tmp]\n",
    "})\n",
    "import matplotlib.pyplot as plt\n",
    "import seaborn as sns\n",
    "\n",
    "plt.figure(figsize=(10, 6))\n",
    "sns.scatterplot(x='y_valid', y='predictions', data=results)\n",
    "plt.title('GDSC1')\n",
    "plt.xlabel('y_valid')\n",
    "plt.ylabel('predictions')\n",
    "correlation = results['y_valid'].corr(results['predictions'])\n",
    "plt.annotate(f'Correlation: {correlation:.2f}', xy=(0.05, 0.95), xycoords='axes fraction', fontsize=12, bbox=dict(facecolor='white', alpha=0.6))\n",
    "plt.show()"
   ]
  },
  {
   "cell_type": "markdown",
   "id": "309060c7-c0f2-4b49-89d3-0e2b0eb99a85",
   "metadata": {},
   "source": [
    "+ GDSC2"
   ]
  },
  {
   "cell_type": "code",
   "execution_count": null,
   "id": "3d3a951c-5343-444c-882c-233b407f3cfc",
   "metadata": {},
   "outputs": [],
   "source": [
    "tmp=model.predict(gdsc2_X)\n",
    "results=pd.DataFrame({\n",
    "    \"y_valid\":gdsc2_y,\n",
    "    \"predictions\":[m[0] for m in tmp]\n",
    "})\n",
    "\n",
    "plt.figure(figsize=(10, 6))\n",
    "sns.scatterplot(x='y_valid', y='predictions', data=results)\n",
    "plt.title('GDSC2')\n",
    "plt.xlabel('y_valid')\n",
    "plt.ylabel('predictions')\n",
    "correlation = results['y_valid'].corr(results['predictions'])\n",
    "plt.annotate(f'Correlation: {correlation:.2f}', xy=(0.05, 0.95), xycoords='axes fraction', fontsize=12, bbox=dict(facecolor='white', alpha=0.6))\n",
    "plt.show()"
   ]
  },
  {
   "cell_type": "markdown",
   "id": "a357e6f4-49f9-46d7-a673-099d3a51f522",
   "metadata": {},
   "source": [
    "## applicaitons"
   ]
  },
  {
   "cell_type": "markdown",
   "id": "83e9610f-431f-4c22-9a32-8f08e71927e9",
   "metadata": {},
   "source": [
    "### predictions for GSE151343"
   ]
  },
  {
   "cell_type": "code",
   "execution_count": null,
   "id": "128dd8b3-d3d0-4620-b0c5-db0ad7aec223",
   "metadata": {},
   "outputs": [],
   "source": [
    "import pandas as pd\n",
    "import numpy as np\n",
    "from scipy.stats import zscore\n",
    "from tensorflow.keras.regularizers import l2\n",
    "def transform_data(gene_matrix_files_in):\n",
    "    sc_count=pd.read_csv(gene_matrix_files_in,index_col=0).T\n",
    "    features=np.load('./dataset/features.npy', allow_pickle=True)\n",
    "    result_df = sc_count.reindex(columns=expression_CCLE.columns, fill_value=0)\n",
    "    #zscore\n",
    "    result_df=result_df.apply(zscore,axis=0)\n",
    "    #na FILL\n",
    "    result_df = result_df.fillna(0)\n",
    "    return result_df"
   ]
  },
  {
   "cell_type": "code",
   "execution_count": null,
   "id": "8afeed96-8b3e-4e51-9f6b-ac7be754ad68",
   "metadata": {},
   "outputs": [],
   "source": [
    "def reduction_dimension(result_df):\n",
    "    # random seed\n",
    "    tf.random.set_seed(42)\n",
    "    np.random.seed(42)\n",
    "    # input layers\n",
    "    input_dim=19193 #gene numbers\n",
    "    input_layer = keras.Input(shape=(input_dim,))\n",
    "    # encoding layers\n",
    "    encoded = Dense(2048, activation='elu')(input_layer)\n",
    "    encoded = Dense(encoding_dim, activation='relu')(encoded)\n",
    "    # decoding layers\n",
    "    decoded = Dense(2048, activation='elu')(encoded)\n",
    "    decoded = Dense(input_dim, activation='relu')(decoded)\n",
    "    autoencoder = Model(input_layer, decoded)\n",
    "    encoder = Model(input_layer, encoded)\n",
    "    autoencoder.compile(optimizer='adam', loss='mse')\n",
    "    early_stopping = callbacks.EarlyStopping(\n",
    "        min_delta=0.001, # minimium amount of change to count as an improvement\n",
    "        patience=10, # how many epochs to wait before stopping\n",
    "        restore_best_weights=True,\n",
    "    )\n",
    "    autoencoder=keras.models.load_model(\"./autoencoder_model.h5\") # not provided, you can train the model by yourself\n",
    "    result_df_sc = encoder.predict(result_df)\n",
    "    result_df_sc = pd.DataFrame(result_df_sc, columns=[f'encoded_{i+1}' for i in range(30)])\n",
    "    return result_df_sc\n",
    "\n",
    "def get_compound_predicted_ic50(fp):\n",
    "    row_to_add_df = pd.DataFrame([fp] * len(result_df_sc)).reset_index(drop=True)\n",
    "    result = pd.concat([row_to_add_df, result_df_sc], axis=1)\n",
    "    tmp=model.predict(result)\n",
    "    res=pd.Series([m[0] for m in tmp])\n",
    "    return res"
   ]
  },
  {
   "cell_type": "code",
   "execution_count": null,
   "id": "48e13690-ba75-4944-b157-e85b2125ecf9",
   "metadata": {},
   "outputs": [],
   "source": [
    "result_df=transform_data('GSE151343_expression.csv')\n",
    "result_df_sc=reduction_dimension(result_df) #reduction"
   ]
  },
  {
   "cell_type": "code",
   "execution_count": null,
   "id": "cdb1d1dc-eee6-45e1-8cda-b8857fb84ba8",
   "metadata": {},
   "outputs": [],
   "source": [
    "fp=pd.read_csv('./dataset/all_molecule_morgan.csv',index_col=0)\n",
    "model=keras.models.load_model(\"./dnn_model_basedon_encoder30_gdsc1_gdsc2/\")"
   ]
  },
  {
   "cell_type": "code",
   "execution_count": null,
   "id": "92fad299-2e12-4d1e-9701-b4acedb2c8cb",
   "metadata": {},
   "outputs": [],
   "source": [
    "new_df=fp.apply(get_compound_predicted_ic50,axis=1)\n",
    "new_df.columns=result_df.index\n",
    "new_df"
   ]
  },
  {
   "cell_type": "code",
   "execution_count": null,
   "id": "f1aeff76-81bc-4444-b2af-65d48a78bbbf",
   "metadata": {},
   "outputs": [],
   "source": [
    "new_df.to_csv(\"GSE151343_prediction.csv\")"
   ]
  },
  {
   "cell_type": "markdown",
   "id": "a3b6b5ca-b198-4df6-8d7b-3c37c6bbb5d7",
   "metadata": {},
   "source": [
    "### predictions for TCGA"
   ]
  },
  {
   "cell_type": "code",
   "execution_count": null,
   "id": "a5ab9af1-95a1-46bc-b385-9b8ac60cf8e6",
   "metadata": {},
   "outputs": [],
   "source": [
    "result_df=transform_data('tcga_gene_expression.csv')\n",
    "result_df_sc=reduction_dimension(result_df)\n",
    "fp=pd.read_csv('./dataset/all_molecule_morgan.csv',index_col=0)\n",
    "model=keras.models.load_model(\"./dnn_model_basedon_encoder30_gdsc1_gdsc2/\")"
   ]
  },
  {
   "cell_type": "code",
   "execution_count": null,
   "id": "8a40714a-871b-4d98-a187-54719c6a9579",
   "metadata": {},
   "outputs": [],
   "source": [
    "new_df=fp.apply(get_compound_predicted_ic50,axis=1)\n",
    "new_df.columns=result_df.index\n",
    "new_df"
   ]
  },
  {
   "cell_type": "code",
   "execution_count": null,
   "id": "0aecf166-ce9b-4a0a-8ab8-73ef65be9338",
   "metadata": {},
   "outputs": [],
   "source": [
    "new_df.to_csv(\"tcga_prediction.csv\")"
   ]
  },
  {
   "cell_type": "code",
   "execution_count": null,
   "id": "7726ee88-452b-4672-988e-b552d7fc46f5",
   "metadata": {},
   "outputs": [],
   "source": []
  },
  {
   "cell_type": "code",
   "execution_count": null,
   "id": "d70c4890-3e38-44fc-9114-595f2b17e4c1",
   "metadata": {},
   "outputs": [],
   "source": []
  },
  {
   "cell_type": "code",
   "execution_count": null,
   "id": "c9932cd7-1ff8-4e85-aa61-0813a2918bc1",
   "metadata": {},
   "outputs": [],
   "source": []
  },
  {
   "cell_type": "code",
   "execution_count": null,
   "id": "7410efe1-98a1-4f0d-a984-96adaefe5484",
   "metadata": {},
   "outputs": [],
   "source": []
  },
  {
   "cell_type": "code",
   "execution_count": null,
   "id": "ab6b5294-133f-4005-ac7b-66e9fee5f59e",
   "metadata": {},
   "outputs": [],
   "source": []
  }
 ],
 "metadata": {
  "kernelspec": {
   "display_name": "Python 3 (ipykernel)",
   "language": "python",
   "name": "python3"
  },
  "language_info": {
   "codemirror_mode": {
    "name": "ipython",
    "version": 3
   },
   "file_extension": ".py",
   "mimetype": "text/x-python",
   "name": "python",
   "nbconvert_exporter": "python",
   "pygments_lexer": "ipython3",
   "version": "3.11.5"
  }
 },
 "nbformat": 4,
 "nbformat_minor": 5
}
